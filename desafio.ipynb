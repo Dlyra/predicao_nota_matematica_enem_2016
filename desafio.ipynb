{
 "cells": [
  {
   "cell_type": "markdown",
   "metadata": {},
   "source": [
    "![](https://media-exp1.licdn.com/dms/image/C4E1BAQEP1qSz0r5URg/company-background_10000/0?e=2159024400&v=beta&t=NSPcEPkWo2GFIWArtamt_15UgvQPq02_CQd5Efay5gg)"
   ]
  },
  {
   "cell_type": "markdown",
   "metadata": {},
   "source": [
    "# Desafio Codenation - AceleraDev Data Science\n",
    "## Descubra as melhores notas de matemática do ENEM 2016\n",
    "_______"
   ]
  },
  {
   "cell_type": "markdown",
   "metadata": {},
   "source": [
    "#### Desafio\n",
    "Criar um modelo para prever a nota da prova de matemática de quem participou do ENEM 2016. \n",
    "\n",
    "O objetivo do desafio é avaliar a sua capacidade de resolver problemas, então ele pode ser resolvido em qualquer linguagem de programação ou ferramenta que você tenha facilidade. Mas recomendamos o uso de linguagens com maior ferramental de matemática e estatística como Python, R, Scala ou Julia.\n",
    "\n",
    "\n",
    "#### Requisitos\n",
    "- Lógica\n",
    "- Análise de dados\n",
    "- Estatística\n",
    "- Regression\n",
    "\n",
    "\n",
    "#### Detalhes\n",
    "\n",
    "O contexto do desafio gira em torno dos resultados do ENEM 2016 (disponíveis no arquivo train.csv). Este arquivo, e apenas ele, deve ser utilizado para todos os desafios. Qualquer dúvida a respeito das colunas, consulte o [Dicionário dos Microdados do Enem 2016](https://s3-us-west-1.amazonaws.com/acceleration-assets-highway/data-science/dicionario-de-dados.zip).\n",
    "\n",
    "Muitas universidades brasileiras utilizam o ENEM para selecionar seus futuros alunos e alunas. Isto é feito com uma média ponderada das notas das provas de matemática, ciências da natureza, linguagens e códigos, ciências humanas e redação. Determine os 20 melhores colocados, por ordem, para os pesos abaixo:\n",
    "\n",
    "- matemática: 3\n",
    "- ciências da natureza: 2\n",
    "- linguagens e códigos: 1.5\n",
    "- ciências humanas: 1\n",
    "- redação: 3\n",
    "\n",
    "No arquivo test.csv crie um modelo para prever nota da prova de matemática (coluna **NU_NOTA_MT**) de quem participou do ENEM 2016. \n",
    "\n",
    "Salve sua resposta em um arquivo chamado answer.csv com duas colunas: **NU_INSCRICAO** e **NU_NOTA_MT**.\n",
    "\n",
    "Faça o upload do arquivo answer.csv usando o botão \"Submeter resposta\".\n",
    "\n",
    "#### Aprovação\n",
    "\n",
    "O modelo enviado deverá atingir o score maior ou igual a 90% para ser aprovado.\n",
    "\n",
    "\n",
    "#### Fonte\n",
    "https://codenation.dev/aceleradev/ds-online-2/\n",
    "___________________"
   ]
  },
  {
   "cell_type": "markdown",
   "metadata": {},
   "source": [
    "### Importando as bibliotecas"
   ]
  },
  {
   "cell_type": "code",
   "execution_count": 901,
   "metadata": {},
   "outputs": [],
   "source": [
    "import pandas as pd\n",
    "import numpy as np\n",
    "from IPython.display import Image\n",
    "import joblib\n",
    "\n",
    "# visualização gráfica\n",
    "import seaborn as sns \n",
    "import matplotlib.pyplot as plt\n",
    "\n",
    "# estatísticas\n",
    "from pandas_profiling import ProfileReport\n",
    "\n",
    "# modelo\n",
    "from sklearn.model_selection import RandomizedSearchCV, KFold, cross_val_score\n",
    "from sklearn.preprocessing import StandardScaler, MinMaxScaler\n",
    "from sklearn.pipeline import Pipeline\n",
    "from sklearn.linear_model import LinearRegression\n",
    "from sklearn.tree import DecisionTreeRegressor, DecisionTreeRegressor\n",
    "from sklearn.neighbors import KNeighborsRegressor\n",
    "from sklearn.ensemble import GradientBoostingRegressor, RandomForestRegressor\n",
    "from sklearn.neighbors import RadiusNeighborsRegressor\n",
    "from sklearn.linear_model import SGDRegressor\n",
    "from sklearn.ensemble import ExtraTreesRegressor\n",
    "from sklearn.ensemble import AdaBoostRegressor\n",
    "\n",
    "from sklearn.preprocessing import LabelEncoder\n",
    "import sklearn.metrics as metrics"
   ]
  },
  {
   "cell_type": "markdown",
   "metadata": {},
   "source": [
    "## Análise Exploratória\n",
    "_______"
   ]
  },
  {
   "cell_type": "code",
   "execution_count": 904,
   "metadata": {},
   "outputs": [],
   "source": [
    "# importa os arquivos teste e train\n",
    "test = pd.read_csv('./dataset/test.csv', sep=\",\",encoding=\"utf-8\")\n",
    "train = pd.read_csv('./dataset/train.csv',sep=\",\",encoding=\"utf-8\")\n",
    "\n",
    "# cria o dataset de respostas que será enviado ao desafio\n",
    "df_resposta = pd.DataFrame()\n",
    "\n",
    "# insere a coluna de inscrição\n",
    "df_resposta['NU_INSCRICAO'] = test['NU_INSCRICAO'] "
   ]
  },
  {
   "cell_type": "code",
   "execution_count": 905,
   "metadata": {},
   "outputs": [
    {
     "data": {
      "text/html": [
       "<div>\n",
       "<style scoped>\n",
       "    .dataframe tbody tr th:only-of-type {\n",
       "        vertical-align: middle;\n",
       "    }\n",
       "\n",
       "    .dataframe tbody tr th {\n",
       "        vertical-align: top;\n",
       "    }\n",
       "\n",
       "    .dataframe thead th {\n",
       "        text-align: right;\n",
       "    }\n",
       "</style>\n",
       "<table border=\"1\" class=\"dataframe\">\n",
       "  <thead>\n",
       "    <tr style=\"text-align: right;\">\n",
       "      <th></th>\n",
       "      <th>Unnamed: 0</th>\n",
       "      <th>NU_INSCRICAO</th>\n",
       "      <th>NU_ANO</th>\n",
       "      <th>CO_MUNICIPIO_RESIDENCIA</th>\n",
       "      <th>NO_MUNICIPIO_RESIDENCIA</th>\n",
       "      <th>CO_UF_RESIDENCIA</th>\n",
       "      <th>SG_UF_RESIDENCIA</th>\n",
       "      <th>NU_IDADE</th>\n",
       "      <th>TP_SEXO</th>\n",
       "      <th>TP_ESTADO_CIVIL</th>\n",
       "      <th>...</th>\n",
       "      <th>Q041</th>\n",
       "      <th>Q042</th>\n",
       "      <th>Q043</th>\n",
       "      <th>Q044</th>\n",
       "      <th>Q045</th>\n",
       "      <th>Q046</th>\n",
       "      <th>Q047</th>\n",
       "      <th>Q048</th>\n",
       "      <th>Q049</th>\n",
       "      <th>Q050</th>\n",
       "    </tr>\n",
       "  </thead>\n",
       "  <tbody>\n",
       "    <tr>\n",
       "      <th>0</th>\n",
       "      <td>1</td>\n",
       "      <td>ed50e8aaa58e7a806c337585efee9ca41f1eb1ad</td>\n",
       "      <td>2016</td>\n",
       "      <td>4314902</td>\n",
       "      <td>Porto Alegre</td>\n",
       "      <td>43</td>\n",
       "      <td>RS</td>\n",
       "      <td>24</td>\n",
       "      <td>M</td>\n",
       "      <td>0.0</td>\n",
       "      <td>...</td>\n",
       "      <td>5.0</td>\n",
       "      <td>A</td>\n",
       "      <td>A</td>\n",
       "      <td>A</td>\n",
       "      <td>A</td>\n",
       "      <td>A</td>\n",
       "      <td>A</td>\n",
       "      <td>A</td>\n",
       "      <td>B</td>\n",
       "      <td>D</td>\n",
       "    </tr>\n",
       "    <tr>\n",
       "      <th>1</th>\n",
       "      <td>2</td>\n",
       "      <td>2c3acac4b33ec2b195d77e7c04a2d75727fad723</td>\n",
       "      <td>2016</td>\n",
       "      <td>2304707</td>\n",
       "      <td>Granja</td>\n",
       "      <td>23</td>\n",
       "      <td>CE</td>\n",
       "      <td>17</td>\n",
       "      <td>F</td>\n",
       "      <td>0.0</td>\n",
       "      <td>...</td>\n",
       "      <td>NaN</td>\n",
       "      <td>A</td>\n",
       "      <td>A</td>\n",
       "      <td>C</td>\n",
       "      <td>A</td>\n",
       "      <td>B</td>\n",
       "      <td>A</td>\n",
       "      <td>A</td>\n",
       "      <td>C</td>\n",
       "      <td>A</td>\n",
       "    </tr>\n",
       "    <tr>\n",
       "      <th>2</th>\n",
       "      <td>3</td>\n",
       "      <td>f4545f8ccb9ff5c8aad7d32951b3f251a26e6568</td>\n",
       "      <td>2016</td>\n",
       "      <td>2304400</td>\n",
       "      <td>Fortaleza</td>\n",
       "      <td>23</td>\n",
       "      <td>CE</td>\n",
       "      <td>21</td>\n",
       "      <td>F</td>\n",
       "      <td>0.0</td>\n",
       "      <td>...</td>\n",
       "      <td>NaN</td>\n",
       "      <td>A</td>\n",
       "      <td>A</td>\n",
       "      <td>A</td>\n",
       "      <td>A</td>\n",
       "      <td>C</td>\n",
       "      <td>A</td>\n",
       "      <td>A</td>\n",
       "      <td>B</td>\n",
       "      <td>A</td>\n",
       "    </tr>\n",
       "    <tr>\n",
       "      <th>3</th>\n",
       "      <td>4</td>\n",
       "      <td>3d6ec248fef899c414e77f82d5c6d2bffbeaf7fe</td>\n",
       "      <td>2016</td>\n",
       "      <td>3304557</td>\n",
       "      <td>Rio de Janeiro</td>\n",
       "      <td>33</td>\n",
       "      <td>RJ</td>\n",
       "      <td>25</td>\n",
       "      <td>F</td>\n",
       "      <td>0.0</td>\n",
       "      <td>...</td>\n",
       "      <td>5.0</td>\n",
       "      <td>C</td>\n",
       "      <td>A</td>\n",
       "      <td>A</td>\n",
       "      <td>A</td>\n",
       "      <td>A</td>\n",
       "      <td>D</td>\n",
       "      <td>A</td>\n",
       "      <td>A</td>\n",
       "      <td>A</td>\n",
       "    </tr>\n",
       "    <tr>\n",
       "      <th>4</th>\n",
       "      <td>5</td>\n",
       "      <td>bf896ac8d3ecadd6dba1dfbf50110afcbf5d3268</td>\n",
       "      <td>2016</td>\n",
       "      <td>1302603</td>\n",
       "      <td>Manaus</td>\n",
       "      <td>13</td>\n",
       "      <td>AM</td>\n",
       "      <td>28</td>\n",
       "      <td>M</td>\n",
       "      <td>0.0</td>\n",
       "      <td>...</td>\n",
       "      <td>NaN</td>\n",
       "      <td>A</td>\n",
       "      <td>A</td>\n",
       "      <td>A</td>\n",
       "      <td>A</td>\n",
       "      <td>A</td>\n",
       "      <td>A</td>\n",
       "      <td>A</td>\n",
       "      <td>A</td>\n",
       "      <td>A</td>\n",
       "    </tr>\n",
       "  </tbody>\n",
       "</table>\n",
       "<p>5 rows × 167 columns</p>\n",
       "</div>"
      ],
      "text/plain": [
       "   Unnamed: 0                              NU_INSCRICAO  NU_ANO  \\\n",
       "0           1  ed50e8aaa58e7a806c337585efee9ca41f1eb1ad    2016   \n",
       "1           2  2c3acac4b33ec2b195d77e7c04a2d75727fad723    2016   \n",
       "2           3  f4545f8ccb9ff5c8aad7d32951b3f251a26e6568    2016   \n",
       "3           4  3d6ec248fef899c414e77f82d5c6d2bffbeaf7fe    2016   \n",
       "4           5  bf896ac8d3ecadd6dba1dfbf50110afcbf5d3268    2016   \n",
       "\n",
       "   CO_MUNICIPIO_RESIDENCIA NO_MUNICIPIO_RESIDENCIA  CO_UF_RESIDENCIA  \\\n",
       "0                  4314902            Porto Alegre                43   \n",
       "1                  2304707                  Granja                23   \n",
       "2                  2304400               Fortaleza                23   \n",
       "3                  3304557          Rio de Janeiro                33   \n",
       "4                  1302603                  Manaus                13   \n",
       "\n",
       "  SG_UF_RESIDENCIA  NU_IDADE TP_SEXO  TP_ESTADO_CIVIL  ...  Q041  Q042  Q043  \\\n",
       "0               RS        24       M              0.0  ...   5.0     A     A   \n",
       "1               CE        17       F              0.0  ...   NaN     A     A   \n",
       "2               CE        21       F              0.0  ...   NaN     A     A   \n",
       "3               RJ        25       F              0.0  ...   5.0     C     A   \n",
       "4               AM        28       M              0.0  ...   NaN     A     A   \n",
       "\n",
       "  Q044  Q045 Q046  Q047  Q048  Q049  Q050  \n",
       "0    A     A    A     A     A     B     D  \n",
       "1    C     A    B     A     A     C     A  \n",
       "2    A     A    C     A     A     B     A  \n",
       "3    A     A    A     D     A     A     A  \n",
       "4    A     A    A     A     A     A     A  \n",
       "\n",
       "[5 rows x 167 columns]"
      ]
     },
     "execution_count": 905,
     "metadata": {},
     "output_type": "execute_result"
    }
   ],
   "source": [
    "# visualiza os dados do arquivo train\n",
    "train.head()"
   ]
  },
  {
   "cell_type": "code",
   "execution_count": 906,
   "metadata": {},
   "outputs": [
    {
     "data": {
      "text/html": [
       "<div>\n",
       "<style scoped>\n",
       "    .dataframe tbody tr th:only-of-type {\n",
       "        vertical-align: middle;\n",
       "    }\n",
       "\n",
       "    .dataframe tbody tr th {\n",
       "        vertical-align: top;\n",
       "    }\n",
       "\n",
       "    .dataframe thead th {\n",
       "        text-align: right;\n",
       "    }\n",
       "</style>\n",
       "<table border=\"1\" class=\"dataframe\">\n",
       "  <thead>\n",
       "    <tr style=\"text-align: right;\">\n",
       "      <th></th>\n",
       "      <th>NU_INSCRICAO</th>\n",
       "      <th>CO_UF_RESIDENCIA</th>\n",
       "      <th>SG_UF_RESIDENCIA</th>\n",
       "      <th>NU_IDADE</th>\n",
       "      <th>TP_SEXO</th>\n",
       "      <th>TP_COR_RACA</th>\n",
       "      <th>TP_NACIONALIDADE</th>\n",
       "      <th>TP_ST_CONCLUSAO</th>\n",
       "      <th>TP_ANO_CONCLUIU</th>\n",
       "      <th>TP_ESCOLA</th>\n",
       "      <th>...</th>\n",
       "      <th>NU_NOTA_COMP5</th>\n",
       "      <th>NU_NOTA_REDACAO</th>\n",
       "      <th>Q001</th>\n",
       "      <th>Q002</th>\n",
       "      <th>Q006</th>\n",
       "      <th>Q024</th>\n",
       "      <th>Q025</th>\n",
       "      <th>Q026</th>\n",
       "      <th>Q027</th>\n",
       "      <th>Q047</th>\n",
       "    </tr>\n",
       "  </thead>\n",
       "  <tbody>\n",
       "    <tr>\n",
       "      <th>0</th>\n",
       "      <td>73ff9fcc02f0a99919906c942c2e1a1042cdcf98</td>\n",
       "      <td>41</td>\n",
       "      <td>PR</td>\n",
       "      <td>22</td>\n",
       "      <td>F</td>\n",
       "      <td>3</td>\n",
       "      <td>1</td>\n",
       "      <td>1</td>\n",
       "      <td>5</td>\n",
       "      <td>1</td>\n",
       "      <td>...</td>\n",
       "      <td>40.0</td>\n",
       "      <td>420.0</td>\n",
       "      <td>B</td>\n",
       "      <td>A</td>\n",
       "      <td>C</td>\n",
       "      <td>A</td>\n",
       "      <td>A</td>\n",
       "      <td>C</td>\n",
       "      <td>C</td>\n",
       "      <td>A</td>\n",
       "    </tr>\n",
       "    <tr>\n",
       "      <th>1</th>\n",
       "      <td>71a95f9f1b91a82c65ad94abbdf9f54e6066f968</td>\n",
       "      <td>21</td>\n",
       "      <td>MA</td>\n",
       "      <td>26</td>\n",
       "      <td>F</td>\n",
       "      <td>3</td>\n",
       "      <td>1</td>\n",
       "      <td>1</td>\n",
       "      <td>8</td>\n",
       "      <td>1</td>\n",
       "      <td>...</td>\n",
       "      <td>100.0</td>\n",
       "      <td>580.0</td>\n",
       "      <td>E</td>\n",
       "      <td>B</td>\n",
       "      <td>C</td>\n",
       "      <td>B</td>\n",
       "      <td>B</td>\n",
       "      <td>B</td>\n",
       "      <td>F</td>\n",
       "      <td>A</td>\n",
       "    </tr>\n",
       "    <tr>\n",
       "      <th>2</th>\n",
       "      <td>b38a03232f43b11c9d0788abaf060f7366053b6d</td>\n",
       "      <td>23</td>\n",
       "      <td>CE</td>\n",
       "      <td>21</td>\n",
       "      <td>M</td>\n",
       "      <td>1</td>\n",
       "      <td>1</td>\n",
       "      <td>2</td>\n",
       "      <td>0</td>\n",
       "      <td>2</td>\n",
       "      <td>...</td>\n",
       "      <td>80.0</td>\n",
       "      <td>320.0</td>\n",
       "      <td>E</td>\n",
       "      <td>E</td>\n",
       "      <td>D</td>\n",
       "      <td>B</td>\n",
       "      <td>B</td>\n",
       "      <td>A</td>\n",
       "      <td>NaN</td>\n",
       "      <td>A</td>\n",
       "    </tr>\n",
       "    <tr>\n",
       "      <th>3</th>\n",
       "      <td>70b682d9a3636be23f6120fa9d6b164eb3c6002d</td>\n",
       "      <td>15</td>\n",
       "      <td>PA</td>\n",
       "      <td>27</td>\n",
       "      <td>F</td>\n",
       "      <td>3</td>\n",
       "      <td>1</td>\n",
       "      <td>1</td>\n",
       "      <td>8</td>\n",
       "      <td>1</td>\n",
       "      <td>...</td>\n",
       "      <td>NaN</td>\n",
       "      <td>NaN</td>\n",
       "      <td>H</td>\n",
       "      <td>E</td>\n",
       "      <td>G</td>\n",
       "      <td>B</td>\n",
       "      <td>B</td>\n",
       "      <td>A</td>\n",
       "      <td>NaN</td>\n",
       "      <td>A</td>\n",
       "    </tr>\n",
       "    <tr>\n",
       "      <th>4</th>\n",
       "      <td>715494628a50142ce8cb17191cfe6d0f3cae0934</td>\n",
       "      <td>41</td>\n",
       "      <td>PR</td>\n",
       "      <td>18</td>\n",
       "      <td>M</td>\n",
       "      <td>1</td>\n",
       "      <td>1</td>\n",
       "      <td>2</td>\n",
       "      <td>0</td>\n",
       "      <td>2</td>\n",
       "      <td>...</td>\n",
       "      <td>0.0</td>\n",
       "      <td>320.0</td>\n",
       "      <td>D</td>\n",
       "      <td>H</td>\n",
       "      <td>H</td>\n",
       "      <td>C</td>\n",
       "      <td>B</td>\n",
       "      <td>A</td>\n",
       "      <td>NaN</td>\n",
       "      <td>A</td>\n",
       "    </tr>\n",
       "  </tbody>\n",
       "</table>\n",
       "<p>5 rows × 47 columns</p>\n",
       "</div>"
      ],
      "text/plain": [
       "                               NU_INSCRICAO  CO_UF_RESIDENCIA  \\\n",
       "0  73ff9fcc02f0a99919906c942c2e1a1042cdcf98                41   \n",
       "1  71a95f9f1b91a82c65ad94abbdf9f54e6066f968                21   \n",
       "2  b38a03232f43b11c9d0788abaf060f7366053b6d                23   \n",
       "3  70b682d9a3636be23f6120fa9d6b164eb3c6002d                15   \n",
       "4  715494628a50142ce8cb17191cfe6d0f3cae0934                41   \n",
       "\n",
       "  SG_UF_RESIDENCIA  NU_IDADE TP_SEXO  TP_COR_RACA  TP_NACIONALIDADE  \\\n",
       "0               PR        22       F            3                 1   \n",
       "1               MA        26       F            3                 1   \n",
       "2               CE        21       M            1                 1   \n",
       "3               PA        27       F            3                 1   \n",
       "4               PR        18       M            1                 1   \n",
       "\n",
       "   TP_ST_CONCLUSAO  TP_ANO_CONCLUIU  TP_ESCOLA  ...  NU_NOTA_COMP5  \\\n",
       "0                1                5          1  ...           40.0   \n",
       "1                1                8          1  ...          100.0   \n",
       "2                2                0          2  ...           80.0   \n",
       "3                1                8          1  ...            NaN   \n",
       "4                2                0          2  ...            0.0   \n",
       "\n",
       "   NU_NOTA_REDACAO  Q001  Q002  Q006  Q024  Q025  Q026  Q027  Q047  \n",
       "0            420.0     B     A     C     A     A     C     C     A  \n",
       "1            580.0     E     B     C     B     B     B     F     A  \n",
       "2            320.0     E     E     D     B     B     A   NaN     A  \n",
       "3              NaN     H     E     G     B     B     A   NaN     A  \n",
       "4            320.0     D     H     H     C     B     A   NaN     A  \n",
       "\n",
       "[5 rows x 47 columns]"
      ]
     },
     "execution_count": 906,
     "metadata": {},
     "output_type": "execute_result"
    }
   ],
   "source": [
    "# visualiza os dados do arquivo test\n",
    "test.head()"
   ]
  },
  {
   "cell_type": "code",
   "execution_count": 907,
   "metadata": {},
   "outputs": [
    {
     "name": "stdout",
     "output_type": "stream",
     "text": [
      "True\n"
     ]
    }
   ],
   "source": [
    "# verificar se os dados de teste estão nos dados de treinamento\n",
    "print(set(test.columns).issubset(set(train.columns)))"
   ]
  },
  {
   "cell_type": "code",
   "execution_count": 908,
   "metadata": {},
   "outputs": [
    {
     "data": {
      "text/plain": [
       "Index(['NU_INSCRICAO', 'CO_UF_RESIDENCIA', 'SG_UF_RESIDENCIA', 'NU_IDADE',\n",
       "       'TP_SEXO', 'TP_COR_RACA', 'TP_NACIONALIDADE', 'TP_ST_CONCLUSAO',\n",
       "       'TP_ANO_CONCLUIU', 'TP_ESCOLA', 'TP_ENSINO', 'IN_TREINEIRO',\n",
       "       'TP_DEPENDENCIA_ADM_ESC', 'IN_BAIXA_VISAO', 'IN_CEGUEIRA', 'IN_SURDEZ',\n",
       "       'IN_DISLEXIA', 'IN_DISCALCULIA', 'IN_SABATISTA', 'IN_GESTANTE',\n",
       "       'IN_IDOSO', 'TP_PRESENCA_CN', 'TP_PRESENCA_CH', 'TP_PRESENCA_LC',\n",
       "       'CO_PROVA_CN', 'CO_PROVA_CH', 'CO_PROVA_LC', 'CO_PROVA_MT',\n",
       "       'NU_NOTA_CN', 'NU_NOTA_CH', 'NU_NOTA_LC', 'TP_LINGUA',\n",
       "       'TP_STATUS_REDACAO', 'NU_NOTA_COMP1', 'NU_NOTA_COMP2', 'NU_NOTA_COMP3',\n",
       "       'NU_NOTA_COMP4', 'NU_NOTA_COMP5', 'NU_NOTA_REDACAO', 'Q001', 'Q002',\n",
       "       'Q006', 'Q024', 'Q025', 'Q026', 'Q027', 'Q047'],\n",
       "      dtype='object')"
      ]
     },
     "execution_count": 908,
     "metadata": {},
     "output_type": "execute_result"
    }
   ],
   "source": [
    "# verifica as colunas que constam nos dois arquivos.\n",
    "test.columns"
   ]
  },
  {
   "cell_type": "code",
   "execution_count": 909,
   "metadata": {},
   "outputs": [
    {
     "data": {
      "text/plain": [
       "Index(['Unnamed: 0', 'NU_INSCRICAO', 'NU_ANO', 'CO_MUNICIPIO_RESIDENCIA',\n",
       "       'NO_MUNICIPIO_RESIDENCIA', 'CO_UF_RESIDENCIA', 'SG_UF_RESIDENCIA',\n",
       "       'NU_IDADE', 'TP_SEXO', 'TP_ESTADO_CIVIL',\n",
       "       ...\n",
       "       'Q041', 'Q042', 'Q043', 'Q044', 'Q045', 'Q046', 'Q047', 'Q048', 'Q049',\n",
       "       'Q050'],\n",
       "      dtype='object', length=167)"
      ]
     },
     "execution_count": 909,
     "metadata": {},
     "output_type": "execute_result"
    }
   ],
   "source": [
    "train.columns"
   ]
  },
  {
   "cell_type": "code",
   "execution_count": 910,
   "metadata": {},
   "outputs": [
    {
     "name": "stdout",
     "output_type": "stream",
     "text": [
      "Dados Teste: (4576, 47)\n",
      "Dados Treino: (13730, 167)\n"
     ]
    }
   ],
   "source": [
    "# verifica o tamanho dos dados linhas e colunas\n",
    "print('Dados Teste:', test.shape) \n",
    "print('Dados Treino:',train.shape)"
   ]
  },
  {
   "cell_type": "markdown",
   "metadata": {},
   "source": [
    "Os dados de treino e teste possuem tamanhos diferentes, o teste possui apenas 47 colunas o que limita um pouco a escolha das features para criar o modelo. "
   ]
  },
  {
   "cell_type": "markdown",
   "metadata": {},
   "source": [
    "### Profile Report\n",
    "\n",
    "O pandas profiling é uma ferramenta que gera um relatório com informações estatísticas e as principais características do seu dataframe.\n",
    "\n",
    "___"
   ]
  },
  {
   "cell_type": "code",
   "execution_count": 75,
   "metadata": {},
   "outputs": [],
   "source": [
    "# executando o profile\n",
    "profile = ProfileReport(test, title='Relatório - Pandas Profiling', html={'style':{'full_width':True}})"
   ]
  },
  {
   "cell_type": "code",
   "execution_count": 76,
   "metadata": {},
   "outputs": [
    {
     "data": {
      "application/vnd.jupyter.widget-view+json": {
       "model_id": "c74032aad5c94edca99c2085d58dd8f3",
       "version_major": 2,
       "version_minor": 0
      },
      "text/plain": [
       "HBox(children=(FloatProgress(value=0.0, description='Summarize dataset', max=46.0, style=ProgressStyle(descrip…"
      ]
     },
     "metadata": {},
     "output_type": "display_data"
    },
    {
     "name": "stdout",
     "output_type": "stream",
     "text": [
      "\n"
     ]
    },
    {
     "data": {
      "application/vnd.jupyter.widget-view+json": {
       "model_id": "582d75b6f0ac40e8a5be9cbc9d2be39e",
       "version_major": 2,
       "version_minor": 0
      },
      "text/plain": [
       "HBox(children=(FloatProgress(value=0.0, description='Generate report structure', max=1.0, style=ProgressStyle(…"
      ]
     },
     "metadata": {},
     "output_type": "display_data"
    },
    {
     "name": "stdout",
     "output_type": "stream",
     "text": [
      "\n"
     ]
    },
    {
     "data": {
      "application/vnd.jupyter.widget-view+json": {
       "model_id": "e346bb50a99d4396936602e2a799e1f4",
       "version_major": 2,
       "version_minor": 0
      },
      "text/plain": [
       "HBox(children=(FloatProgress(value=0.0, description='Render HTML', max=1.0, style=ProgressStyle(description_wi…"
      ]
     },
     "metadata": {},
     "output_type": "display_data"
    },
    {
     "name": "stdout",
     "output_type": "stream",
     "text": [
      "\n"
     ]
    },
    {
     "data": {
      "application/vnd.jupyter.widget-view+json": {
       "model_id": "e723dd0d493a4479b6bd23c4caf26cf3",
       "version_major": 2,
       "version_minor": 0
      },
      "text/plain": [
       "HBox(children=(FloatProgress(value=0.0, description='Export report to file', max=1.0, style=ProgressStyle(desc…"
      ]
     },
     "metadata": {},
     "output_type": "display_data"
    },
    {
     "name": "stdout",
     "output_type": "stream",
     "text": [
      "\n"
     ]
    }
   ],
   "source": [
    "# salvando o relatório no disco para acesso numa página externa. \n",
    "profile.to_file(output_file=\"Relatorio_test.html\")"
   ]
  },
  {
   "cell_type": "code",
   "execution_count": null,
   "metadata": {},
   "outputs": [],
   "source": [
    "# visualiza o relatório no notebook\n",
    "profile"
   ]
  },
  {
   "cell_type": "markdown",
   "metadata": {},
   "source": [
    " Após a análise das variáveis no profile seleciona aquelas que serão as features do modelo."
   ]
  },
  {
   "cell_type": "markdown",
   "metadata": {},
   "source": [
    "## Seleciona as Features e Valida a Correlação\n",
    "\n",
    "____"
   ]
  },
  {
   "cell_type": "markdown",
   "metadata": {},
   "source": [
    "As features selecionadas foram: \n",
    "\n",
    "**NU_NOTA_MT -** Nota da prova de Matemática - **Essa é a variável alvo**\n",
    "\n",
    "**NU_IDADE -** Idade\n",
    "\n",
    "**TP_ST_CONCLUSAO -** Situação de conclusão do Ensino Médio (Já concluiu o Ensino Médio, Estou cursando, etc)\n",
    "\n",
    "**NU_NOTA_COMP1 -** Nota da competência 1 - Demonstrar domínio da modalidade escrita formal da Língua Portuguesa.\n",
    "\n",
    "**NU_NOTA_COMP2 -** Nota da competência 2 - Compreender a proposta de redação.\n",
    "\n",
    "**NU_NOTA_COMP3 -** Nota da competência 3 - Relacionar, organizar e interpretar informações, fatos, opiniões e argumentos em defesa de um ponto de vista.\n",
    "\n",
    "**NU_NOTA_COMP4 -** Nota da competência 4 - Demonstrar conhecimento dos mecanismos linguísticos necessários para a construção da argumentação.\n",
    "\n",
    "**NU_NOTA_COMP5 -** Nota da competência 5 - Elaborar proposta de intervenção para o problema abordado, respeitando os direitos humanos.\n",
    "\n",
    "**NU_NOTA_CN -** Nota da prova de Ciências da Natureza\n",
    "\n",
    "**NU_NOTA_CH -** Nota da prova de Ciências Humanas\n",
    "\n",
    "**NU_NOTA_LC -** Nota da prova de Linguagens e Códigos\n",
    "\n",
    "**NU_NOTA_REDACAO -** Nota da prova de redação\n",
    "\n",
    "**Q006 -** Qual é a renda mensal de sua família? (Some a sua renda com a dos seus familiares.)\n",
    "\n",
    "**Q001 -** Até que série seu pai, ou o homem responsável por você, estudou?\n",
    "\n",
    "**Q002 -** Até que série sua mãe, ou a mulher responsável por você, estudou?\n",
    "\n",
    "**SG_UF_RESIDENCIA -** Sigla da Unidade da Federação de residência\n",
    "\n",
    "_____"
   ]
  },
  {
   "cell_type": "code",
   "execution_count": 911,
   "metadata": {},
   "outputs": [],
   "source": [
    "# selecionando as features\n",
    "features = ['NU_IDADE',\n",
    "       'TP_ST_CONCLUSAO',\n",
    "       'NU_NOTA_COMP1',\n",
    "       'NU_NOTA_COMP2',\n",
    "       'NU_NOTA_COMP3',\n",
    "       'NU_NOTA_COMP4',\n",
    "       'NU_NOTA_COMP5',\n",
    "       'NU_NOTA_CN',\n",
    "       'NU_NOTA_CH',\n",
    "       'NU_NOTA_LC',\n",
    "       'NU_NOTA_REDACAO',\n",
    "        'Q006',\n",
    "        'Q001',\n",
    "        'Q002',\n",
    "        'SG_UF_RESIDENCIA',\n",
    "        'NU_NOTA_MT']"
   ]
  },
  {
   "cell_type": "code",
   "execution_count": 913,
   "metadata": {},
   "outputs": [],
   "source": [
    "# features_test sem a nota de matemática para fazer a correlação\n",
    "features_test =['NU_IDADE',\n",
    "       'TP_ST_CONCLUSAO',\n",
    "       'NU_NOTA_COMP1',\n",
    "       'NU_NOTA_COMP2',\n",
    "       'NU_NOTA_COMP3',\n",
    "       'NU_NOTA_COMP4',\n",
    "       'NU_NOTA_COMP5',\n",
    "       'NU_NOTA_CN',\n",
    "       'NU_NOTA_CH',\n",
    "       'NU_NOTA_LC',\n",
    "       'NU_NOTA_REDACAO',\n",
    "        'Q006',\n",
    "        'Q001',\n",
    "        'Q002',\n",
    "        'SG_UF_RESIDENCIA']"
   ]
  },
  {
   "cell_type": "code",
   "execution_count": 914,
   "metadata": {},
   "outputs": [
    {
     "data": {
      "text/plain": [
       "<matplotlib.axes._subplots.AxesSubplot at 0x1a620dff10>"
      ]
     },
     "execution_count": 914,
     "metadata": {},
     "output_type": "execute_result"
    },
    {
     "data": {
      "image/png": "[encoded data removed]",
      "text/plain": [
       "<Figure size 1152x432 with 2 Axes>"
      ]
     },
     "metadata": {
      "needs_background": "light"
     },
     "output_type": "display_data"
    }
   ],
   "source": [
    "# mapa de calor para visualizar a correlação entre as variáveis escolhidas para as features_test\n",
    "correlacoes_features = df_test[features_test].corr()\n",
    "plt.figure(figsize=(16, 6))\n",
    "sns.heatmap(data=correlacoes_features, annot=True)"
   ]
  },
  {
   "cell_type": "markdown",
   "metadata": {},
   "source": [
    "Algumas das features escolhidas possuem uma correlação alta a moderada."
   ]
  },
  {
   "cell_type": "markdown",
   "metadata": {},
   "source": [
    "### Tratamento das Features\n",
    "____"
   ]
  },
  {
   "cell_type": "code",
   "execution_count": 915,
   "metadata": {},
   "outputs": [],
   "source": [
    "# faz uma cópia do dataframe importado\n",
    "df_train = train.copy()\n",
    "df_test = test.copy()"
   ]
  },
  {
   "cell_type": "code",
   "execution_count": 920,
   "metadata": {},
   "outputs": [
    {
     "data": {
      "text/plain": [
       "NU_IDADE               0\n",
       "TP_ST_CONCLUSAO        0\n",
       "NU_NOTA_COMP1       3597\n",
       "NU_NOTA_COMP2       3597\n",
       "NU_NOTA_COMP3       3597\n",
       "NU_NOTA_COMP4       3597\n",
       "NU_NOTA_COMP5       3597\n",
       "NU_NOTA_CN          3389\n",
       "NU_NOTA_CH          3389\n",
       "NU_NOTA_LC          3597\n",
       "NU_NOTA_REDACAO     3597\n",
       "Q006                   0\n",
       "Q001                   0\n",
       "Q002                   0\n",
       "SG_UF_RESIDENCIA       0\n",
       "NU_NOTA_MT          3597\n",
       "dtype: int64"
      ]
     },
     "execution_count": 920,
     "metadata": {},
     "output_type": "execute_result"
    }
   ],
   "source": [
    "# mostra a quantidade de campos nulos em train\n",
    "df_train[features].isnull().sum()"
   ]
  },
  {
   "cell_type": "code",
   "execution_count": 921,
   "metadata": {},
   "outputs": [
    {
     "data": {
      "text/plain": [
       "NU_IDADE               0\n",
       "TP_ST_CONCLUSAO        0\n",
       "NU_NOTA_COMP1       1199\n",
       "NU_NOTA_COMP2       1199\n",
       "NU_NOTA_COMP3       1199\n",
       "NU_NOTA_COMP4       1199\n",
       "NU_NOTA_COMP5       1199\n",
       "NU_NOTA_CN          1134\n",
       "NU_NOTA_CH          1134\n",
       "NU_NOTA_LC          1199\n",
       "NU_NOTA_REDACAO     1199\n",
       "Q006                   0\n",
       "Q001                   0\n",
       "Q002                   0\n",
       "SG_UF_RESIDENCIA       0\n",
       "dtype: int64"
      ]
     },
     "execution_count": 921,
     "metadata": {},
     "output_type": "execute_result"
    }
   ],
   "source": [
    "# mostra a quantidade de campos nulos em test\n",
    "df_test[features_test].isnull().sum()"
   ]
  },
  {
   "cell_type": "code",
   "execution_count": 918,
   "metadata": {},
   "outputs": [
    {
     "data": {
      "text/plain": [
       "3597"
      ]
     },
     "execution_count": 918,
     "metadata": {},
     "output_type": "execute_result"
    }
   ],
   "source": [
    "# verifica quantos campos nulos tem na variável alvo\n",
    "df_train['NU_NOTA_MT'].isnull().sum()"
   ]
  },
  {
   "cell_type": "markdown",
   "metadata": {},
   "source": [
    "### Tratamento dos Campos Nulos\n",
    "____\n",
    "\n",
    "Algumas das possibilidades para tratar campos nulos são:\n",
    "\n",
    "    - Exclui esses dados do dataset;\n",
    "    - Preencher os campos com a média dos valores do campo e\n",
    "    - Preencher os campos nulos com zeros.\n",
    "    \n",
    "A variável alvo \"NU_NOTA_MT\" possui 3.597 campos nulos o que pode indicar um erro de preenchimento no campo, ou o candidato não compareceu a prova e/ou deixou em branco.\n",
    "\n",
    "Preencher com a média dos valores não parece correto ,pois estaria afirmando que o canditado fez prova e atribuindo uma valor errado. \n",
    "\n",
    "Como o dataset possui poucos registros excluir os campos nulos pode ser prejudicial para o modelo.\n",
    "\n",
    "Preencher com a média dos valores não seria correto para a variável alvo. \n",
    "\n",
    "Por fim, restou **preencher os campos nulos com zeros** e dessa forma o modelo não será treinado com valores nulos. \n",
    "___"
   ]
  },
  {
   "cell_type": "code",
   "execution_count": 922,
   "metadata": {},
   "outputs": [
    {
     "data": {
      "text/plain": [
       "NU_IDADE            0\n",
       "TP_ST_CONCLUSAO     0\n",
       "NU_NOTA_COMP1       0\n",
       "NU_NOTA_COMP2       0\n",
       "NU_NOTA_COMP3       0\n",
       "NU_NOTA_COMP4       0\n",
       "NU_NOTA_COMP5       0\n",
       "NU_NOTA_CN          0\n",
       "NU_NOTA_CH          0\n",
       "NU_NOTA_LC          0\n",
       "NU_NOTA_REDACAO     0\n",
       "Q006                0\n",
       "Q001                0\n",
       "Q002                0\n",
       "SG_UF_RESIDENCIA    0\n",
       "NU_NOTA_MT          0\n",
       "dtype: int64"
      ]
     },
     "execution_count": 922,
     "metadata": {},
     "output_type": "execute_result"
    }
   ],
   "source": [
    "# substitui os campos nulos das features por zero\n",
    "df_train = df_train[features].fillna(0)\n",
    "df_train.isnull().sum()"
   ]
  },
  {
   "cell_type": "code",
   "execution_count": 923,
   "metadata": {},
   "outputs": [
    {
     "data": {
      "text/plain": [
       "NU_IDADE            0\n",
       "TP_ST_CONCLUSAO     0\n",
       "NU_NOTA_COMP1       0\n",
       "NU_NOTA_COMP2       0\n",
       "NU_NOTA_COMP3       0\n",
       "NU_NOTA_COMP4       0\n",
       "NU_NOTA_COMP5       0\n",
       "NU_NOTA_CN          0\n",
       "NU_NOTA_CH          0\n",
       "NU_NOTA_LC          0\n",
       "NU_NOTA_REDACAO     0\n",
       "Q006                0\n",
       "Q001                0\n",
       "Q002                0\n",
       "SG_UF_RESIDENCIA    0\n",
       "dtype: int64"
      ]
     },
     "execution_count": 923,
     "metadata": {},
     "output_type": "execute_result"
    }
   ],
   "source": [
    "# substitui os campos nulos das features por zero\n",
    "df_test = df_test[features_test].fillna(0)\n",
    "df_test.isnull().sum()"
   ]
  },
  {
   "cell_type": "code",
   "execution_count": 924,
   "metadata": {},
   "outputs": [],
   "source": [
    "# remove a variável target de features\n",
    "features.remove('NU_NOTA_MT')"
   ]
  },
  {
   "cell_type": "code",
   "execution_count": 925,
   "metadata": {},
   "outputs": [],
   "source": [
    "# transforma as features não númericas em campos númericos\n",
    "LE = LabelEncoder()\n",
    "\n",
    "# features de treino\n",
    "df_train['SG_UF_RESIDENCIA'] = LE.fit_transform(df_train['SG_UF_RESIDENCIA'])\n",
    "df_train['Q006'] = LE.fit_transform(df_train['Q006'])\n",
    "df_train['Q001'] = LE.fit_transform(df_train['Q001'])\n",
    "df_train['Q002'] = LE.fit_transform(df_train['Q002'])\n",
    "\n",
    "# features de teste\n",
    "df_test['SG_UF_RESIDENCIA'] = LE.fit_transform(df_test['SG_UF_RESIDENCIA'])\n",
    "df_test['Q006'] = LE.fit_transform(df_test['Q006'])\n",
    "df_test['Q001'] = LE.fit_transform(df_test['Q001'])\n",
    "df_test['Q002'] = LE.fit_transform(df_test['Q002'])"
   ]
  },
  {
   "cell_type": "markdown",
   "metadata": {},
   "source": [
    "## Validando o melhor modelo\n",
    "______"
   ]
  },
  {
   "cell_type": "markdown",
   "metadata": {},
   "source": [
    "Dado que os requisitos do desafio pedem uma regressão, foram testado dos seguintes algoritmos: \n",
    "\n",
    "   **> LinearRegression:** A regressão linear é um modelo para se estimar a condicional de uma variável y, dados os valores de algumas outras variáveis x. \n",
    "\n",
    "\n",
    "   **> KNeighborsRegressor:** O algoritmo KNN pode ser usado para problemas de classificação e regressão baseada em k-vizinhos mais próximos.\n",
    "\n",
    "   **> DecisionTreeRegressor:** Um regressor de árvore de decisão que constrói modelos de regressão ou classificação na forma de uma estrutura em árvore.\n",
    "\n",
    "   **> GradientBoostRegressor:** Constói um modelo aditivo de forma progressiva; permite a otimização de funções de perda diferenciáveis arbitrárias.\\\n",
    "        Em cada estágio, uma árvore de regressão é ajustada no gradiente negativo da função perda fornecida.\n",
    "\n",
    "   **> RandomForestRegressor:** Modelo que funciona através de uma floresta aleatória é um meta-estimador que se encaixa em várias árvores de decisão classificadoras em várias subamostras do conjunto de dados e usa a média para melhorar a precisão preditiva e controlar o ajuste excessivo. Não há interação entre essas árvores durante a construção das árvores.\n",
    "   \n",
    "   **> RadiusNeighborsRegressor:** Regressão baseada em vizinhos em um raio fixo. O alvo é previsto pela interpolação local dos alvos associados aos vizinhos mais próximos no conjunto de treinamento.\n",
    "   \n",
    "   **> SGDRegressor:** SGD significa Stochastic Gradient Descent: o gradiente da perda é estimado cada amostra de cada vez e o modelo é atualizado ao longo do caminho com um cronograma de força decrescente (também conhecido como taxa de aprendizado).\n",
    "   \n",
    "   **> ExtraTreesRegressor:** O modelo implementa um meta-estimador que se encaixa em várias árvores de decisão aleatórias (também conhecidas como extra-árvores) em várias subamostras do conjunto de dados e usa a média para melhorar a precisão preditiva e controlar o ajuste excessivo.\n",
    "   \n",
    "   **> AdaBoostRegressor:** AdaBoost é um meta-estimador que começa ajustando um regressor no conjunto de dados original e depois ajusta cópias adicionais do regressor no mesmo conjunto de dados, mas onde os pesos das instâncias são ajustados de acordo com o erro da previsão atual.\n",
    "   Assim, os regressores subsequentes se concentram mais em casos difíceis.\n",
    "   \n",
    "   Fonte: https://scikit-learn.org/stable/index.html \n",
    "  ______"
   ]
  },
  {
   "cell_type": "code",
   "execution_count": 927,
   "metadata": {},
   "outputs": [],
   "source": [
    "# função para validar os modelos\n",
    "def validaPerformanceModelos(pipelines,x_train,y_train):\n",
    "    results = []\n",
    "    names = []\n",
    "    for name, model in pipelines:\n",
    "        kfold = KFold(n_splits=5, random_state=21, shuffle=True)\n",
    "        cv_results = cross_val_score(model, x_train, y_train, cv=kfold, scoring='neg_mean_squared_error')\n",
    "        results.append(cv_results)\n",
    "        names.append(name)\n",
    "        msg = \"%s: %f (%f)\" % (name, cv_results.mean(), cv_results.std())\n",
    "        print(msg)"
   ]
  },
  {
   "cell_type": "code",
   "execution_count": 928,
   "metadata": {},
   "outputs": [],
   "source": [
    "pipelines = []\n",
    "pipelines.append(('LRE', Pipeline([('Scaler', MinMaxScaler()),('LRE',LinearRegression())])))\n",
    "pipelines.append(('KNN', Pipeline([('Scaler', MinMaxScaler()),('KNN', KNeighborsRegressor())])))\n",
    "pipelines.append(('DTR', Pipeline([('Scaler', MinMaxScaler()),('DTR', DecisionTreeRegressor())])))\n",
    "pipelines.append(('GBM', Pipeline([('Scaler', MinMaxScaler()),('GBM', GradientBoostingRegressor())])))\n",
    "pipelines.append(('RFR', Pipeline([('Scaler', MinMaxScaler()),('RFR', RandomForestRegressor())])))\n",
    "pipelines.append(('RNR', Pipeline([('Scaler', MinMaxScaler()),('RNR', RadiusNeighborsRegressor())])))\n",
    "pipelines.append(('SGD', Pipeline([('Scaler', MinMaxScaler()),('SGD', SGDRegressor())])))\n",
    "pipelines.append(('ETR', Pipeline([('Scaler', MinMaxScaler()),('ETR', ExtraTreesRegressor())])))\n",
    "pipelines.append(('ADA', Pipeline([('Scaler', MinMaxScaler()),('ADA', AdaBoostRegressor())])))"
   ]
  },
  {
   "cell_type": "code",
   "execution_count": 929,
   "metadata": {},
   "outputs": [],
   "source": [
    "X_train = df_train[features]\n",
    "y_train = df_train['NU_NOTA_MT']\n",
    "X_test = df_test[features]   "
   ]
  },
  {
   "cell_type": "code",
   "execution_count": 930,
   "metadata": {},
   "outputs": [
    {
     "name": "stdout",
     "output_type": "stream",
     "text": [
      "LRE: -4964.754977 (153.027810)\n",
      "KNN: -5359.210283 (92.091750)\n",
      "DTR: -8292.536588 (171.491225)\n",
      "GBM: -3946.608843 (62.164964)\n",
      "RFR: -4120.484055 (95.397052)\n",
      "RNR: -6409.487439 (181.909683)\n",
      "SGD: -4994.517028 (147.639544)\n",
      "ETR: -4102.370517 (50.092303)\n",
      "ADA: -5799.175407 (427.294123)\n"
     ]
    }
   ],
   "source": [
    "validaPerformanceModelos(pipelines, x_train, y_train)"
   ]
  },
  {
   "cell_type": "markdown",
   "metadata": {},
   "source": [
    "Os algoritmos que possuem o menor valor de erro médio são: GradientBoostingRegressor, RandomForestRegressor e ExtraTreesRegressor."
   ]
  },
  {
   "cell_type": "markdown",
   "metadata": {},
   "source": [
    "### Usando o modelo GradientBoostRegressor\n",
    "___"
   ]
  },
  {
   "cell_type": "code",
   "execution_count": 931,
   "metadata": {},
   "outputs": [],
   "source": [
    "# importa o modelo GradientBoostingRegressor\n",
    "pipe_GBM = Pipeline([('scaler',StandardScaler()),('GradientBoostingRegressor',GradientBoostingRegressor())])"
   ]
  },
  {
   "cell_type": "code",
   "execution_count": 932,
   "metadata": {},
   "outputs": [],
   "source": [
    "CV_pipe_GBM = RandomizedSearchCV(estimator = pipe_GBM, param_distributions = {},cv = 5,return_train_score=True, verbose=0)"
   ]
  },
  {
   "cell_type": "code",
   "execution_count": 933,
   "metadata": {},
   "outputs": [
    {
     "name": "stderr",
     "output_type": "stream",
     "text": [
      "/anaconda3/lib/python3.7/site-packages/sklearn/model_selection/_search.py:281: UserWarning: The total space of parameters 1 is smaller than n_iter=10. Running 1 iterations. For exhaustive searches, use GridSearchCV.\n",
      "  % (grid_size, self.n_iter, grid_size), UserWarning)\n"
     ]
    },
    {
     "data": {
      "text/plain": [
       "RandomizedSearchCV(cv=5, error_score=nan,\n",
       "                   estimator=Pipeline(memory=None,\n",
       "                                      steps=[('scaler',\n",
       "                                              StandardScaler(copy=True,\n",
       "                                                             with_mean=True,\n",
       "                                                             with_std=True)),\n",
       "                                             ('GradientBoostingRegressor',\n",
       "                                              GradientBoostingRegressor(alpha=0.9,\n",
       "                                                                        ccp_alpha=0.0,\n",
       "                                                                        criterion='friedman_mse',\n",
       "                                                                        init=None,\n",
       "                                                                        learning_rate=0.1,\n",
       "                                                                        loss='ls',\n",
       "                                                                        max_depth=3,\n",
       "                                                                        max_features=None,\n",
       "                                                                        max_leaf_nodes=None,\n",
       "                                                                        min_impurity_d...\n",
       "                                                                        min_weight_fraction_leaf=0.0,\n",
       "                                                                        n_estimators=100,\n",
       "                                                                        n_iter_no_change=None,\n",
       "                                                                        presort='deprecated',\n",
       "                                                                        random_state=None,\n",
       "                                                                        subsample=1.0,\n",
       "                                                                        tol=0.0001,\n",
       "                                                                        validation_fraction=0.1,\n",
       "                                                                        verbose=0,\n",
       "                                                                        warm_start=False))],\n",
       "                                      verbose=False),\n",
       "                   iid='deprecated', n_iter=10, n_jobs=None,\n",
       "                   param_distributions={}, pre_dispatch='2*n_jobs',\n",
       "                   random_state=None, refit=True, return_train_score=True,\n",
       "                   scoring=None, verbose=0)"
      ]
     },
     "execution_count": 933,
     "metadata": {},
     "output_type": "execute_result"
    }
   ],
   "source": [
    "CV_pipe_GBM.fit(X_train, y_train)"
   ]
  },
  {
   "cell_type": "code",
   "execution_count": 934,
   "metadata": {},
   "outputs": [],
   "source": [
    "# faz a predição das notas de matemática\n",
    "y_pred = CV_pipe_GBM.predict(X_test)"
   ]
  },
  {
   "cell_type": "code",
   "execution_count": 935,
   "metadata": {},
   "outputs": [],
   "source": [
    "# armazena as notas que o modelo preveu no dataset resposta\n",
    "df_resposta['NU_NOTA_MT'] = np.around(y_pred,2)"
   ]
  },
  {
   "cell_type": "code",
   "execution_count": 936,
   "metadata": {},
   "outputs": [
    {
     "data": {
      "text/plain": [
       "array([430.22, 448.39, 590.02, ..., 471.  , 654.58, 448.43])"
      ]
     },
     "execution_count": 936,
     "metadata": {},
     "output_type": "execute_result"
    }
   ],
   "source": [
    "# verifica as notas de matemáticas estimadas\n",
    "df_resposta['NU_NOTA_MT'].unique()"
   ]
  },
  {
   "cell_type": "code",
   "execution_count": 937,
   "metadata": {},
   "outputs": [
    {
     "data": {
      "text/html": [
       "<div>\n",
       "<style scoped>\n",
       "    .dataframe tbody tr th:only-of-type {\n",
       "        vertical-align: middle;\n",
       "    }\n",
       "\n",
       "    .dataframe tbody tr th {\n",
       "        vertical-align: top;\n",
       "    }\n",
       "\n",
       "    .dataframe thead th {\n",
       "        text-align: right;\n",
       "    }\n",
       "</style>\n",
       "<table border=\"1\" class=\"dataframe\">\n",
       "  <thead>\n",
       "    <tr style=\"text-align: right;\">\n",
       "      <th></th>\n",
       "      <th>NU_INSCRICAO</th>\n",
       "      <th>NU_NOTA_MT</th>\n",
       "    </tr>\n",
       "  </thead>\n",
       "  <tbody>\n",
       "    <tr>\n",
       "      <th>0</th>\n",
       "      <td>73ff9fcc02f0a99919906c942c2e1a1042cdcf98</td>\n",
       "      <td>430.22</td>\n",
       "    </tr>\n",
       "    <tr>\n",
       "      <th>1</th>\n",
       "      <td>71a95f9f1b91a82c65ad94abbdf9f54e6066f968</td>\n",
       "      <td>448.39</td>\n",
       "    </tr>\n",
       "    <tr>\n",
       "      <th>2</th>\n",
       "      <td>b38a03232f43b11c9d0788abaf060f7366053b6d</td>\n",
       "      <td>590.02</td>\n",
       "    </tr>\n",
       "    <tr>\n",
       "      <th>3</th>\n",
       "      <td>70b682d9a3636be23f6120fa9d6b164eb3c6002d</td>\n",
       "      <td>1.12</td>\n",
       "    </tr>\n",
       "    <tr>\n",
       "      <th>4</th>\n",
       "      <td>715494628a50142ce8cb17191cfe6d0f3cae0934</td>\n",
       "      <td>563.65</td>\n",
       "    </tr>\n",
       "  </tbody>\n",
       "</table>\n",
       "</div>"
      ],
      "text/plain": [
       "                               NU_INSCRICAO  NU_NOTA_MT\n",
       "0  73ff9fcc02f0a99919906c942c2e1a1042cdcf98      430.22\n",
       "1  71a95f9f1b91a82c65ad94abbdf9f54e6066f968      448.39\n",
       "2  b38a03232f43b11c9d0788abaf060f7366053b6d      590.02\n",
       "3  70b682d9a3636be23f6120fa9d6b164eb3c6002d        1.12\n",
       "4  715494628a50142ce8cb17191cfe6d0f3cae0934      563.65"
      ]
     },
     "execution_count": 937,
     "metadata": {},
     "output_type": "execute_result"
    }
   ],
   "source": [
    "# verifica o dataset final\n",
    "df_resposta.head()"
   ]
  },
  {
   "cell_type": "code",
   "execution_count": 429,
   "metadata": {},
   "outputs": [],
   "source": [
    "# gera o arquivo de respostas com a inscrição do aluno e a nota de matemática predita\n",
    "df_resposta.to_csv('answer.csv', index=False, header=True)"
   ]
  },
  {
   "cell_type": "markdown",
   "metadata": {},
   "source": [
    "### Score do modelo obtido no desafio Codenation\n",
    "___"
   ]
  },
  {
   "cell_type": "markdown",
   "metadata": {},
   "source": [
    "Submetido o modelo no site do Codenation, o resultado obtido foi de 93,68%, logo foi alcançado a aprovação no desafio."
   ]
  },
  {
   "cell_type": "code",
   "execution_count": 526,
   "metadata": {},
   "outputs": [
    {
     "data": {
      "image/png": "[encoded data removed]",
      "text/plain": [
       "<IPython.core.display.Image object>"
      ]
     },
     "execution_count": 526,
     "metadata": {},
     "output_type": "execute_result"
    }
   ],
   "source": [
    "Image('Score_Modelo.png')"
   ]
  },
  {
   "cell_type": "markdown",
   "metadata": {},
   "source": [
    "___________"
   ]
  },
  {
   "cell_type": "markdown",
   "metadata": {},
   "source": [
    "## Inserindo mais features no modelo\n",
    "___"
   ]
  },
  {
   "cell_type": "code",
   "execution_count": 938,
   "metadata": {},
   "outputs": [],
   "source": [
    "# faz uma cópia do dataframe importado\n",
    "df2_train = train.copy()\n",
    "df2_test = test.copy()"
   ]
  },
  {
   "cell_type": "code",
   "execution_count": 939,
   "metadata": {},
   "outputs": [
    {
     "name": "stdout",
     "output_type": "stream",
     "text": [
      "(4576, 47)\n",
      "(13730, 167)\n"
     ]
    }
   ],
   "source": [
    "# valida os tamanhos dos dados\n",
    "print(df2_test.shape)\n",
    "print(df2_train.shape)"
   ]
  },
  {
   "cell_type": "code",
   "execution_count": 898,
   "metadata": {},
   "outputs": [
    {
     "data": {
      "text/plain": [
       "Index(['NU_INSCRICAO', 'CO_UF_RESIDENCIA', 'SG_UF_RESIDENCIA', 'NU_IDADE',\n",
       "       'TP_SEXO', 'TP_COR_RACA', 'TP_NACIONALIDADE', 'TP_ST_CONCLUSAO',\n",
       "       'TP_ANO_CONCLUIU', 'TP_ESCOLA', 'TP_ENSINO', 'IN_TREINEIRO',\n",
       "       'TP_DEPENDENCIA_ADM_ESC', 'IN_BAIXA_VISAO', 'IN_CEGUEIRA', 'IN_SURDEZ',\n",
       "       'IN_DISLEXIA', 'IN_DISCALCULIA', 'IN_SABATISTA', 'IN_GESTANTE',\n",
       "       'IN_IDOSO', 'TP_PRESENCA_CN', 'TP_PRESENCA_CH', 'TP_PRESENCA_LC',\n",
       "       'CO_PROVA_CN', 'CO_PROVA_CH', 'CO_PROVA_LC', 'CO_PROVA_MT',\n",
       "       'NU_NOTA_CN', 'NU_NOTA_CH', 'NU_NOTA_LC', 'TP_LINGUA',\n",
       "       'TP_STATUS_REDACAO', 'NU_NOTA_COMP1', 'NU_NOTA_COMP2', 'NU_NOTA_COMP3',\n",
       "       'NU_NOTA_COMP4', 'NU_NOTA_COMP5', 'NU_NOTA_REDACAO', 'Q001', 'Q002',\n",
       "       'Q006', 'Q024', 'Q025', 'Q026', 'Q027', 'Q047'],\n",
       "      dtype='object')"
      ]
     },
     "execution_count": 898,
     "metadata": {},
     "output_type": "execute_result"
    }
   ],
   "source": [
    "# valida as colunas existentes em test\n",
    "test.columns"
   ]
  },
  {
   "cell_type": "code",
   "execution_count": 946,
   "metadata": {},
   "outputs": [
    {
     "name": "stdout",
     "output_type": "stream",
     "text": [
      "Quantidade de Features: 15\n"
     ]
    },
    {
     "data": {
      "text/plain": [
       "['NU_IDADE',\n",
       " 'TP_ST_CONCLUSAO',\n",
       " 'NU_NOTA_COMP1',\n",
       " 'NU_NOTA_COMP2',\n",
       " 'NU_NOTA_COMP3',\n",
       " 'NU_NOTA_COMP4',\n",
       " 'NU_NOTA_COMP5',\n",
       " 'NU_NOTA_CN',\n",
       " 'NU_NOTA_CH',\n",
       " 'NU_NOTA_LC',\n",
       " 'NU_NOTA_REDACAO',\n",
       " 'Q006',\n",
       " 'Q001',\n",
       " 'Q002',\n",
       " 'SG_UF_RESIDENCIA']"
      ]
     },
     "execution_count": 946,
     "metadata": {},
     "output_type": "execute_result"
    }
   ],
   "source": [
    "# verifica as variáveis já existem em features, sem considerar a variável alvo\n",
    "print('Quantidade de Features:', len(features))\n",
    "features"
   ]
  },
  {
   "cell_type": "markdown",
   "metadata": {},
   "source": [
    "## Seleção das Variáveis\n",
    "_____\n",
    "\n",
    "As variáveis selecionadas para adicionar em features são:\n",
    "\n",
    "   **TP_SEXO-** Sexo (Feminino ou Masculino) \n",
    "   \n",
    "   **TP_COR_RACA-** Cor/raça\n",
    "   \n",
    "   **TP_ANO_CONCLUIU -** Ano de Conclusão do Ensino Médio\n",
    "   \n",
    "   **Q026 -** Você exerce ou já exerceu atividade remunerada?\n",
    "   \n",
    "   **Q027 -** Com que idade você começou a exercer uma atividade remunerada?\n",
    "   \n",
    "   **Q047 -** Em que tipo de escola você frequentou o Ensino Médio?\n",
    "   _____"
   ]
  },
  {
   "cell_type": "code",
   "execution_count": 947,
   "metadata": {},
   "outputs": [],
   "source": [
    "# converte essas colunas em string para posterior transformação\n",
    "df2_train['Q027']= df2_train['Q027'].astype(str)\n",
    "df2_test['Q027']= df2_test['Q027'].astype(str)"
   ]
  },
  {
   "cell_type": "code",
   "execution_count": 948,
   "metadata": {},
   "outputs": [],
   "source": [
    "features2 =['NU_IDADE',\n",
    "            'TP_SEXO',\n",
    "            'TP_COR_RACA',\n",
    "            'TP_ST_CONCLUSAO',\n",
    "            'TP_ANO_CONCLUIU',\n",
    "            'NU_NOTA_COMP1',\n",
    "           'NU_NOTA_COMP2',\n",
    "           'NU_NOTA_COMP3',\n",
    "           'NU_NOTA_COMP4',\n",
    "           'NU_NOTA_COMP5',\n",
    "           'NU_NOTA_CN',\n",
    "           'NU_NOTA_CH',\n",
    "           'NU_NOTA_LC',\n",
    "            'NU_NOTA_REDACAO',\n",
    "            'Q006',\n",
    "            'Q001',\n",
    "            'Q002',\n",
    "            'Q026',\n",
    "            'Q027',\n",
    "            'Q047',\n",
    "            'SG_UF_RESIDENCIA',\n",
    "            'NU_NOTA_MT'] "
   ]
  },
  {
   "cell_type": "code",
   "execution_count": 951,
   "metadata": {},
   "outputs": [
    {
     "name": "stdout",
     "output_type": "stream",
     "text": [
      "Quantidade de Features: 22\n"
     ]
    }
   ],
   "source": [
    "# valida a quantidade final de features com a variável alvo\n",
    "print('Quantidade de Features:',len(features2))"
   ]
  },
  {
   "cell_type": "markdown",
   "metadata": {},
   "source": [
    "**Preencher os campos nulos com zeros**"
   ]
  },
  {
   "cell_type": "code",
   "execution_count": 952,
   "metadata": {},
   "outputs": [
    {
     "data": {
      "text/plain": [
       "NU_IDADE            0\n",
       "TP_SEXO             0\n",
       "TP_COR_RACA         0\n",
       "TP_ST_CONCLUSAO     0\n",
       "TP_ANO_CONCLUIU     0\n",
       "NU_NOTA_COMP1       0\n",
       "NU_NOTA_COMP2       0\n",
       "NU_NOTA_COMP3       0\n",
       "NU_NOTA_COMP4       0\n",
       "NU_NOTA_COMP5       0\n",
       "NU_NOTA_CN          0\n",
       "NU_NOTA_CH          0\n",
       "NU_NOTA_LC          0\n",
       "NU_NOTA_REDACAO     0\n",
       "Q006                0\n",
       "Q001                0\n",
       "Q002                0\n",
       "Q026                0\n",
       "Q027                0\n",
       "Q047                0\n",
       "SG_UF_RESIDENCIA    0\n",
       "NU_NOTA_MT          0\n",
       "dtype: int64"
      ]
     },
     "execution_count": 952,
     "metadata": {},
     "output_type": "execute_result"
    }
   ],
   "source": [
    "# substitui os campos nulos das features por zero\n",
    "df2_train = df2_train[features2].fillna(0)\n",
    "df2_train.isnull().sum()"
   ]
  },
  {
   "cell_type": "code",
   "execution_count": 953,
   "metadata": {},
   "outputs": [],
   "source": [
    "# remove a variável target de features\n",
    "features2.remove('NU_NOTA_MT')"
   ]
  },
  {
   "cell_type": "code",
   "execution_count": 954,
   "metadata": {},
   "outputs": [
    {
     "data": {
      "text/plain": [
       "NU_IDADE            0\n",
       "TP_SEXO             0\n",
       "TP_COR_RACA         0\n",
       "TP_ST_CONCLUSAO     0\n",
       "TP_ANO_CONCLUIU     0\n",
       "NU_NOTA_COMP1       0\n",
       "NU_NOTA_COMP2       0\n",
       "NU_NOTA_COMP3       0\n",
       "NU_NOTA_COMP4       0\n",
       "NU_NOTA_COMP5       0\n",
       "NU_NOTA_CN          0\n",
       "NU_NOTA_CH          0\n",
       "NU_NOTA_LC          0\n",
       "NU_NOTA_REDACAO     0\n",
       "Q006                0\n",
       "Q001                0\n",
       "Q002                0\n",
       "Q026                0\n",
       "Q027                0\n",
       "Q047                0\n",
       "SG_UF_RESIDENCIA    0\n",
       "dtype: int64"
      ]
     },
     "execution_count": 954,
     "metadata": {},
     "output_type": "execute_result"
    }
   ],
   "source": [
    "# substitui os campos nulos das features por zero\n",
    "df2_test= df2_test[features2].fillna(0)\n",
    "df2_test.isnull().sum()"
   ]
  },
  {
   "cell_type": "code",
   "execution_count": 955,
   "metadata": {},
   "outputs": [],
   "source": [
    "# transforma as features não númericas em campos númericos\n",
    "LE = LabelEncoder()\n",
    "\n",
    "# features de treino\n",
    "df2_train['SG_UF_RESIDENCIA'] = LE.fit_transform(df2_train['SG_UF_RESIDENCIA'])\n",
    "df2_train['TP_SEXO'] = LE.fit_transform(df2_train['TP_SEXO'])\n",
    "df2_train['Q006'] = LE.fit_transform(df2_train['Q006'])\n",
    "df2_train['Q001'] = LE.fit_transform(df2_train['Q001'])\n",
    "df2_train['Q002'] = LE.fit_transform(df2_train['Q002'])\n",
    "df2_train['Q026'] = LE.fit_transform(df2_train['Q026'])\n",
    "df2_train['Q027'] = LE.fit_transform(df2_train['Q027'])\n",
    "df2_train['Q047'] = LE.fit_transform(df2_train['Q047'])\n",
    "\n",
    "# features de teste\n",
    "df2_test['SG_UF_RESIDENCIA'] = LE.fit_transform(df2_test['SG_UF_RESIDENCIA'])\n",
    "df2_test['TP_SEXO'] = LE.fit_transform(df2_test['TP_SEXO'])\n",
    "df2_test['Q006'] = LE.fit_transform(df2_test['Q006'])\n",
    "df2_test['Q001'] = LE.fit_transform(df2_test['Q001'])\n",
    "df2_test['Q002'] = LE.fit_transform(df2_test['Q002'])\n",
    "df2_test['Q026'] = LE.fit_transform(df2_test['Q026'])\n",
    "df2_test['Q027'] = LE.fit_transform(df2_test['Q027'])\n",
    "df2_test['Q047'] = LE.fit_transform(df2_test['Q047'])"
   ]
  },
  {
   "cell_type": "code",
   "execution_count": 956,
   "metadata": {},
   "outputs": [],
   "source": [
    "X2_train = df2_train[features2]\n",
    "y2_train = df2_train['NU_NOTA_MT']\n",
    "X2_test = df2_test[features2]   "
   ]
  },
  {
   "cell_type": "code",
   "execution_count": 957,
   "metadata": {},
   "outputs": [
    {
     "name": "stderr",
     "output_type": "stream",
     "text": [
      "/anaconda3/lib/python3.7/site-packages/sklearn/model_selection/_search.py:281: UserWarning: The total space of parameters 1 is smaller than n_iter=10. Running 1 iterations. For exhaustive searches, use GridSearchCV.\n",
      "  % (grid_size, self.n_iter, grid_size), UserWarning)\n"
     ]
    },
    {
     "data": {
      "text/plain": [
       "RandomizedSearchCV(cv=5, error_score=nan,\n",
       "                   estimator=Pipeline(memory=None,\n",
       "                                      steps=[('scaler',\n",
       "                                              StandardScaler(copy=True,\n",
       "                                                             with_mean=True,\n",
       "                                                             with_std=True)),\n",
       "                                             ('GradientBoostingRegressor',\n",
       "                                              GradientBoostingRegressor(alpha=0.9,\n",
       "                                                                        ccp_alpha=0.0,\n",
       "                                                                        criterion='friedman_mse',\n",
       "                                                                        init=None,\n",
       "                                                                        learning_rate=0.1,\n",
       "                                                                        loss='ls',\n",
       "                                                                        max_depth=3,\n",
       "                                                                        max_features=None,\n",
       "                                                                        max_leaf_nodes=None,\n",
       "                                                                        min_impurity_d...\n",
       "                                                                        min_weight_fraction_leaf=0.0,\n",
       "                                                                        n_estimators=100,\n",
       "                                                                        n_iter_no_change=None,\n",
       "                                                                        presort='deprecated',\n",
       "                                                                        random_state=None,\n",
       "                                                                        subsample=1.0,\n",
       "                                                                        tol=0.0001,\n",
       "                                                                        validation_fraction=0.1,\n",
       "                                                                        verbose=0,\n",
       "                                                                        warm_start=False))],\n",
       "                                      verbose=False),\n",
       "                   iid='deprecated', n_iter=10, n_jobs=None,\n",
       "                   param_distributions={}, pre_dispatch='2*n_jobs',\n",
       "                   random_state=None, refit=True, return_train_score=True,\n",
       "                   scoring=None, verbose=0)"
      ]
     },
     "execution_count": 957,
     "metadata": {},
     "output_type": "execute_result"
    }
   ],
   "source": [
    "# importa o modelo GradientBoostingRegressor\n",
    "pipe_GBM = Pipeline([('scaler',StandardScaler()),('GradientBoostingRegressor',GradientBoostingRegressor())])\n",
    "CV_pipe_GBM = RandomizedSearchCV(estimator = pipe_GBM, param_distributions = {},cv = 5,return_train_score=True, verbose=0)\n",
    "CV_pipe_GBM.fit(X2_train, y2_train)"
   ]
  },
  {
   "cell_type": "code",
   "execution_count": 958,
   "metadata": {},
   "outputs": [],
   "source": [
    "# faz a predição das notas de matemática\n",
    "y_pred2 = CV_pipe_GBM.predict(X2_test)"
   ]
  },
  {
   "cell_type": "code",
   "execution_count": 959,
   "metadata": {},
   "outputs": [],
   "source": [
    "# cria o dataset de respostas que será enviado ao desafio\n",
    "df2_resposta = pd.DataFrame()\n",
    "\n",
    "# insere a coluna de inscrição\n",
    "df2_resposta['NU_INSCRICAO'] = test['NU_INSCRICAO'] "
   ]
  },
  {
   "cell_type": "code",
   "execution_count": 960,
   "metadata": {},
   "outputs": [],
   "source": [
    "# armazena as notas que o modelo preveu no dataset resposta\n",
    "df2_resposta['NU_NOTA_MT'] = np.around(y_pred2,2)"
   ]
  },
  {
   "cell_type": "code",
   "execution_count": 894,
   "metadata": {},
   "outputs": [],
   "source": [
    "# gera o arquivo de respostas com a inscrição do aluno e a nota de matemática predita\n",
    "df2_resposta.to_csv('answer.csv', index=False, header=True)"
   ]
  },
  {
   "cell_type": "code",
   "execution_count": 961,
   "metadata": {},
   "outputs": [
    {
     "data": {
      "text/html": [
       "<div>\n",
       "<style scoped>\n",
       "    .dataframe tbody tr th:only-of-type {\n",
       "        vertical-align: middle;\n",
       "    }\n",
       "\n",
       "    .dataframe tbody tr th {\n",
       "        vertical-align: top;\n",
       "    }\n",
       "\n",
       "    .dataframe thead th {\n",
       "        text-align: right;\n",
       "    }\n",
       "</style>\n",
       "<table border=\"1\" class=\"dataframe\">\n",
       "  <thead>\n",
       "    <tr style=\"text-align: right;\">\n",
       "      <th></th>\n",
       "      <th>NU_INSCRICAO</th>\n",
       "      <th>NU_NOTA_MT</th>\n",
       "    </tr>\n",
       "  </thead>\n",
       "  <tbody>\n",
       "    <tr>\n",
       "      <th>0</th>\n",
       "      <td>73ff9fcc02f0a99919906c942c2e1a1042cdcf98</td>\n",
       "      <td>430.91</td>\n",
       "    </tr>\n",
       "    <tr>\n",
       "      <th>1</th>\n",
       "      <td>71a95f9f1b91a82c65ad94abbdf9f54e6066f968</td>\n",
       "      <td>441.08</td>\n",
       "    </tr>\n",
       "    <tr>\n",
       "      <th>2</th>\n",
       "      <td>b38a03232f43b11c9d0788abaf060f7366053b6d</td>\n",
       "      <td>585.55</td>\n",
       "    </tr>\n",
       "    <tr>\n",
       "      <th>3</th>\n",
       "      <td>70b682d9a3636be23f6120fa9d6b164eb3c6002d</td>\n",
       "      <td>0.88</td>\n",
       "    </tr>\n",
       "    <tr>\n",
       "      <th>4</th>\n",
       "      <td>715494628a50142ce8cb17191cfe6d0f3cae0934</td>\n",
       "      <td>556.88</td>\n",
       "    </tr>\n",
       "    <tr>\n",
       "      <th>...</th>\n",
       "      <td>...</td>\n",
       "      <td>...</td>\n",
       "    </tr>\n",
       "    <tr>\n",
       "      <th>4571</th>\n",
       "      <td>dac0f22429c7f8e3931d0abaf5dfc8e5c772a48b</td>\n",
       "      <td>451.53</td>\n",
       "    </tr>\n",
       "    <tr>\n",
       "      <th>4572</th>\n",
       "      <td>a75fa8770257e7c9368d059fe53d9ef431f4bdef</td>\n",
       "      <td>477.26</td>\n",
       "    </tr>\n",
       "    <tr>\n",
       "      <th>4573</th>\n",
       "      <td>655fa6306720ff16e825903b5422a46608a77545</td>\n",
       "      <td>684.38</td>\n",
       "    </tr>\n",
       "    <tr>\n",
       "      <th>4574</th>\n",
       "      <td>1f4bc3e3d56212d500625bfe8ac78ccff4362293</td>\n",
       "      <td>460.26</td>\n",
       "    </tr>\n",
       "    <tr>\n",
       "      <th>4575</th>\n",
       "      <td>adf0d15b54317b6564ef56dad2b775bbb0ef50cc</td>\n",
       "      <td>0.57</td>\n",
       "    </tr>\n",
       "  </tbody>\n",
       "</table>\n",
       "<p>4576 rows × 2 columns</p>\n",
       "</div>"
      ],
      "text/plain": [
       "                                  NU_INSCRICAO  NU_NOTA_MT\n",
       "0     73ff9fcc02f0a99919906c942c2e1a1042cdcf98      430.91\n",
       "1     71a95f9f1b91a82c65ad94abbdf9f54e6066f968      441.08\n",
       "2     b38a03232f43b11c9d0788abaf060f7366053b6d      585.55\n",
       "3     70b682d9a3636be23f6120fa9d6b164eb3c6002d        0.88\n",
       "4     715494628a50142ce8cb17191cfe6d0f3cae0934      556.88\n",
       "...                                        ...         ...\n",
       "4571  dac0f22429c7f8e3931d0abaf5dfc8e5c772a48b      451.53\n",
       "4572  a75fa8770257e7c9368d059fe53d9ef431f4bdef      477.26\n",
       "4573  655fa6306720ff16e825903b5422a46608a77545      684.38\n",
       "4574  1f4bc3e3d56212d500625bfe8ac78ccff4362293      460.26\n",
       "4575  adf0d15b54317b6564ef56dad2b775bbb0ef50cc        0.57\n",
       "\n",
       "[4576 rows x 2 columns]"
      ]
     },
     "execution_count": 961,
     "metadata": {},
     "output_type": "execute_result"
    }
   ],
   "source": [
    "# verifica o dataset final\n",
    "df2_resposta"
   ]
  },
  {
   "cell_type": "markdown",
   "metadata": {},
   "source": [
    "### Score do modelo obtido no desafio Codenation\n",
    "____"
   ]
  },
  {
   "cell_type": "markdown",
   "metadata": {},
   "source": [
    "Submetido o novo modelo no site do Codenation, o resultado obtido foi de 93,78%, alcançado um acréscimo de 0,10% em relação ao modelo inicial."
   ]
  },
  {
   "cell_type": "code",
   "execution_count": 965,
   "metadata": {},
   "outputs": [
    {
     "data": {
      "image/png": "[encoded data removed]",
      "text/plain": [
       "<IPython.core.display.Image object>"
      ]
     },
     "execution_count": 965,
     "metadata": {},
     "output_type": "execute_result"
    }
   ],
   "source": [
    "Image('Score_Modelo2.png')"
   ]
  },
  {
   "cell_type": "markdown",
   "metadata": {},
   "source": [
    "____\n",
    "## Conclusão\n",
    "___"
   ]
  },
  {
   "cell_type": "markdown",
   "metadata": {},
   "source": [
    "O objetivo do desafio é avaliar a capacidade do canditado de resolver problemas utilizando lógica, estatística e instrumentos que auxiliem no desenvolvimento do modelo.\n",
    "\n",
    "Para participar do programa de capacitação a nota de corte para aprovação no desafio é de 90%.\n",
    "\n",
    "Foi utilizado para esse desafio o modelo **GradientBoostRegressor** com 15 features obtendo um **score de 93,68%.** \n",
    "\n",
    "Em seguida, foi **acrescido mais 06 variáveis nas features** o que totalizou 22 variáveis, com isso o modelo obteve um melhora no **score para 93,78%.**\n",
    "\n",
    "Os dados fornecidos já estavam dividos em test e train e com tamanhos distintos o que dificultava usar técnicas de Feature Selection.\n",
    "\n",
    "Além de ser um base de dados pequena e com um problema proposto razoávelmente simples.\n",
    "\n",
    "Contudo, o objetivo do score foi alcançado e consequentemente a aprovação no programa.\n",
    "\n",
    "____"
   ]
  }
 ],
 "metadata": {
  "kernelspec": {
   "display_name": "Python 3",
   "language": "python",
   "name": "python3"
  },
  "language_info": {
   "codemirror_mode": {
    "name": "ipython",
    "version": 3
   },
   "file_extension": ".py",
   "mimetype": "text/x-python",
   "name": "python",
   "nbconvert_exporter": "python",
   "pygments_lexer": "ipython3",
   "version": "3.7.7"
  }
 },
 "nbformat": 4,
 "nbformat_minor": 4
}